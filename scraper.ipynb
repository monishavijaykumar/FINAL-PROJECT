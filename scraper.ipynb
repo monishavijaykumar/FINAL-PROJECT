{
 "cells": [
  {
   "cell_type": "code",
   "execution_count": 1,
   "metadata": {},
   "outputs": [],
   "source": [
    "from bs4 import BeautifulSoup\n",
    "import requests\n",
    "import lxml\n",
    "import pandas as pd\n",
    "from urllib.request import urlopen as uReq"
   ]
  },
  {
   "cell_type": "code",
   "execution_count": 2,
   "metadata": {},
   "outputs": [],
   "source": [
    "url=\"https://karki23.github.io/Weather-Data/assignment.html\""
   ]
  },
  {
   "cell_type": "code",
   "execution_count": 3,
   "metadata": {},
   "outputs": [],
   "source": [
    "response=requests.get(url)"
   ]
  },
  {
   "cell_type": "code",
   "execution_count": 4,
   "metadata": {},
   "outputs": [
    {
     "data": {
      "text/plain": [
       "<Response [200]>"
      ]
     },
     "execution_count": 4,
     "metadata": {},
     "output_type": "execute_result"
    }
   ],
   "source": [
    "response"
   ]
  },
  {
   "cell_type": "code",
   "execution_count": 5,
   "metadata": {},
   "outputs": [],
   "source": [
    "data=response.text"
   ]
  },
  {
   "cell_type": "code",
   "execution_count": 6,
   "metadata": {},
   "outputs": [
    {
     "data": {
      "text/plain": [
       "'<!DOCTYPE html>\\n<html>\\n<head>\\n\\t<title>FINAL ASSIGNMENT</title>\\n</head>\\n<body>\\n<div>\\n      Here\\'s the list of 49 cities, each one of these links will redirect you to a page containing the weather data for that particular city:\\n    </div>\\n    <ul>\\n    <li><a href=\"Albury.html\">Albury</a></li><br>\\n    <li><a href=\"BadgerysCreek.html\">Badgerys Creek</a></li><br>\\n    <li><a href=\"Cobar.html\">Cobar</a></li><br>\\n    <li><a href=\"CoffsHarbour.html\">Coffs Harbour</a></li><br>\\n    <li><a href=\"Moree.html\">Moree</a></li><br>\\n    <li><a href=\"Newcastle.html\">Newcastle</a></li><br>\\n    <li><a href=\"NorahHead.html\">NorahHead</a></li><br>\\n    <li><a href=\"NorfolkIsland.html\">Norfolk Island</a></li><br>\\n    <li><a href=\"Penrith.html\">Penrith</a></li><br>\\n    <li><a href=\"Richmond.html\">Richmond</a></li><br>\\n    <li><a href=\"Sydney.html\">Sydney</a></li><br>\\n    <li><a href=\"SydneyAirport.html\">Sydney Airport</a></li><br>\\n    <li><a href=\"WaggaWagga.html\">Wagga Wagga</a></li><br>\\n    <li><a href=\"Williamtown.html\">William town</a></li><br>\\n    <li><a href=\"Wollongong.html\">Wollongong</a></li><br>\\n    <li><a href=\"Canberra.html\">Canberra</a></li><br>\\n    <li><a href=\"Tuggeranong.html\">Tuggeranong</a></li><br>\\n    <li><a href=\"MountGinini.html\">Mount Ginini</a></li><br>\\n    <li><a href=\"Ballarat.html\">Ballarat</a></li><br>\\n    <li><a href=\"Bendigo.html\">Bendigo</a></li><br>\\n    <li><a href=\"Sale.html\">Sale</a></li><br>\\n    <li><a href=\"MelbourneAirport.html\">Melbourne Airport</a></li><br>\\n    <li><a href=\"Melbourne.html\">Melbourne</a></li><br>\\n    <li><a href=\"Mildura.html\">Mildura</a></li><br>\\n    <li><a href=\"Nhil.html\">Nhil</a></li><br>\\n    <li><a href=\"Portland.html\">Portland</a></li><br>\\n    <li><a href=\"Watsonia.html\">Watsonia</a></li><br>\\n    <li><a href=\"Dartmoor.html\">Dartmoor</a></li><br>\\n    <li><a href=\"Brisbane.html\">Brisbane</a></li><br>\\n    <li><a href=\"Cairns.html\">Cairns</a></li><br>\\n    <li><a href=\"GoldCoast.html\">Gold Coast</a></li><br>\\n    <li><a href=\"Townsville.html\">Townsville</a></li><br>\\n    <li><a href=\"Adelaide.html\">Adelaide</a></li><br>\\n    <li><a href=\"MountGambier.html\">Mount Gambier</a></li><br>\\n    <li><a href=\"Nuriootpa.html\">Nuriootpa</a></li><br>\\n    <li><a href=\"Woomera.html\">Woomera</a></li><br>\\n    <li><a href=\"Albany.html\">Albany</a></li><br>\\n    <li><a href=\"Witchcliffe.html\">Witchcliffe</a></li><br>\\n    <li><a href=\"PearceRAAF.html\">PearceRAAF</a></li><br>\\n    <li><a href=\"PerthAirport.html\">Perth Airport</a></li><br>\\n    <li><a href=\"Perth.html\">Perth</a></li><br>\\n    <li><a href=\"SalmonGums.html\">SalmonGums</a></li><br>\\n    <li><a href=\"Walpole.html\">Walpole</a></li><br>\\n    <li><a href=\"Hobart.html\">Hobart</a></li><br>\\n    <li><a href=\"Launceston.html\">Launceston</a></li><br>\\n    <li><a href=\"AliceSprings.html\">Alice Springs</a></li><br>\\n    <li><a href=\"Darwin.html\">Darwin</a></li><br>\\n    <li><a href=\"Katherine.html\">Katherine</a></li><br>\\n    <li><a href=\"Uluru.html\">Uluru</a></li><br>\\n    </ul>\\n</body>\\n</html>'"
      ]
     },
     "execution_count": 6,
     "metadata": {},
     "output_type": "execute_result"
    }
   ],
   "source": [
    "data"
   ]
  },
  {
   "cell_type": "code",
   "execution_count": 7,
   "metadata": {},
   "outputs": [],
   "source": [
    "soup=BeautifulSoup(data,'lxml')"
   ]
  },
  {
   "cell_type": "code",
   "execution_count": 8,
   "metadata": {},
   "outputs": [],
   "source": [
    "tags=soup.find_all('a')"
   ]
  },
  {
   "cell_type": "code",
   "execution_count": 9,
   "metadata": {},
   "outputs": [
    {
     "name": "stdout",
     "output_type": "stream",
     "text": [
      "Albury.html\n",
      "BadgerysCreek.html\n",
      "Cobar.html\n",
      "CoffsHarbour.html\n",
      "Moree.html\n",
      "Newcastle.html\n",
      "NorahHead.html\n",
      "NorfolkIsland.html\n",
      "Penrith.html\n",
      "Richmond.html\n",
      "Sydney.html\n",
      "SydneyAirport.html\n",
      "WaggaWagga.html\n",
      "Williamtown.html\n",
      "Wollongong.html\n",
      "Canberra.html\n",
      "Tuggeranong.html\n",
      "MountGinini.html\n",
      "Ballarat.html\n",
      "Bendigo.html\n",
      "Sale.html\n",
      "MelbourneAirport.html\n",
      "Melbourne.html\n",
      "Mildura.html\n",
      "Nhil.html\n",
      "Portland.html\n",
      "Watsonia.html\n",
      "Dartmoor.html\n",
      "Brisbane.html\n",
      "Cairns.html\n",
      "GoldCoast.html\n",
      "Townsville.html\n",
      "Adelaide.html\n",
      "MountGambier.html\n",
      "Nuriootpa.html\n",
      "Woomera.html\n",
      "Albany.html\n",
      "Witchcliffe.html\n",
      "PearceRAAF.html\n",
      "PerthAirport.html\n",
      "Perth.html\n",
      "SalmonGums.html\n",
      "Walpole.html\n",
      "Hobart.html\n",
      "Launceston.html\n",
      "AliceSprings.html\n",
      "Darwin.html\n",
      "Katherine.html\n",
      "Uluru.html\n"
     ]
    }
   ],
   "source": [
    "for tag in tags:\n",
    "    print(tag.get('href'))"
   ]
  },
  {
   "cell_type": "code",
   "execution_count": 21,
   "metadata": {},
   "outputs": [],
   "source": [
    "url1=\"https://karki23.github.io/Weather-Data/\"\n",
    "for tag in tags:\n",
    "    link=url1+tag.get('href')\n",
    "    response1=requests.get(link)\n",
    "    data1=response1.text\n",
    "    soup1=BeautifulSoup(data1,'lxml')\n",
    "    table = soup1.find('table')\n",
    "    rows = table.find_all('tr')\n",
    "    columns = [v.text.replace('\\n','') for v in rows[0].find_all('th')]\n",
    "    df = pd.DataFrame(columns = columns)\n",
    "    for i in range(1,len(rows)):\n",
    "        td = rows[i].find_all('td')\n",
    "        values = [td.text for td in td]\n",
    "        df = df.append(pd.Series(values,index=columns),ignore_index=True)\n",
    "        df.to_csv(values[1]+'.csv',index = False)"
   ]
  },
  {
   "cell_type": "code",
   "execution_count": null,
   "metadata": {},
   "outputs": [],
   "source": []
  }
 ],
 "metadata": {
  "kernelspec": {
   "display_name": "Python 3",
   "language": "python",
   "name": "python3"
  },
  "language_info": {
   "codemirror_mode": {
    "name": "ipython",
    "version": 3
   },
   "file_extension": ".py",
   "mimetype": "text/x-python",
   "name": "python",
   "nbconvert_exporter": "python",
   "pygments_lexer": "ipython3",
   "version": "3.6.5"
  }
 },
 "nbformat": 4,
 "nbformat_minor": 2
}
